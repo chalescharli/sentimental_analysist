{
  "nbformat": 4,
  "nbformat_minor": 0,
  "metadata": {
    "colab": {
      "provenance": [],
      "authorship_tag": "ABX9TyPX4vmuplvVslZBoh0WZNOS",
      "include_colab_link": true
    },
    "kernelspec": {
      "name": "python3",
      "display_name": "Python 3"
    },
    "language_info": {
      "name": "python"
    }
  },
  "cells": [
    {
      "cell_type": "markdown",
      "metadata": {
        "id": "view-in-github",
        "colab_type": "text"
      },
      "source": [
        "<a href=\"https://colab.research.google.com/github/chalescharli/sentimental_analysist/blob/main/Sentiments_Analysis.ipynb\" target=\"_parent\"><img src=\"https://colab.research.google.com/assets/colab-badge.svg\" alt=\"Open In Colab\"/></a>"
      ]
    },
    {
      "cell_type": "code",
      "source": [
        "!pip install nest_asyncio\n"
      ],
      "metadata": {
        "colab": {
          "base_uri": "https://localhost:8080/"
        },
        "id": "qwJTOMEmt9HF",
        "outputId": "1d7a4679-82a4-4b5c-bb3c-b00f815848a6"
      },
      "execution_count": 56,
      "outputs": [
        {
          "output_type": "stream",
          "name": "stdout",
          "text": [
            "Requirement already satisfied: nest_asyncio in /usr/local/lib/python3.10/dist-packages (1.6.0)\n"
          ]
        }
      ]
    },
    {
      "cell_type": "code",
      "execution_count": 35,
      "metadata": {
        "colab": {
          "base_uri": "https://localhost:8080/"
        },
        "id": "836qQd3kl96d",
        "outputId": "c43809fc-2224-407b-c0e4-b69b6a943860"
      },
      "outputs": [
        {
          "output_type": "stream",
          "name": "stdout",
          "text": [
            "Requirement already satisfied: alpaca-trade-api in /usr/local/lib/python3.10/dist-packages (3.2.0)\n",
            "Requirement already satisfied: transformers in /usr/local/lib/python3.10/dist-packages (4.44.2)\n",
            "Requirement already satisfied: pandas>=0.18.1 in /usr/local/lib/python3.10/dist-packages (from alpaca-trade-api) (2.1.4)\n",
            "Requirement already satisfied: numpy>=1.11.1 in /usr/local/lib/python3.10/dist-packages (from alpaca-trade-api) (1.26.4)\n",
            "Requirement already satisfied: requests<3,>2 in /usr/local/lib/python3.10/dist-packages (from alpaca-trade-api) (2.32.3)\n",
            "Requirement already satisfied: urllib3<2,>1.24 in /usr/local/lib/python3.10/dist-packages (from alpaca-trade-api) (1.26.20)\n",
            "Requirement already satisfied: websocket-client<2,>=0.56.0 in /usr/local/lib/python3.10/dist-packages (from alpaca-trade-api) (1.8.0)\n",
            "Requirement already satisfied: websockets<11,>=9.0 in /usr/local/lib/python3.10/dist-packages (from alpaca-trade-api) (10.4)\n",
            "Requirement already satisfied: msgpack==1.0.3 in /usr/local/lib/python3.10/dist-packages (from alpaca-trade-api) (1.0.3)\n",
            "Requirement already satisfied: aiohttp<4,>=3.8.3 in /usr/local/lib/python3.10/dist-packages (from alpaca-trade-api) (3.10.5)\n",
            "Requirement already satisfied: PyYAML==6.0.1 in /usr/local/lib/python3.10/dist-packages (from alpaca-trade-api) (6.0.1)\n",
            "Requirement already satisfied: deprecation==2.1.0 in /usr/local/lib/python3.10/dist-packages (from alpaca-trade-api) (2.1.0)\n",
            "Requirement already satisfied: packaging in /usr/local/lib/python3.10/dist-packages (from deprecation==2.1.0->alpaca-trade-api) (24.1)\n",
            "Requirement already satisfied: filelock in /usr/local/lib/python3.10/dist-packages (from transformers) (3.16.1)\n",
            "Requirement already satisfied: huggingface-hub<1.0,>=0.23.2 in /usr/local/lib/python3.10/dist-packages (from transformers) (0.24.7)\n",
            "Requirement already satisfied: regex!=2019.12.17 in /usr/local/lib/python3.10/dist-packages (from transformers) (2024.9.11)\n",
            "Requirement already satisfied: safetensors>=0.4.1 in /usr/local/lib/python3.10/dist-packages (from transformers) (0.4.5)\n",
            "Requirement already satisfied: tokenizers<0.20,>=0.19 in /usr/local/lib/python3.10/dist-packages (from transformers) (0.19.1)\n",
            "Requirement already satisfied: tqdm>=4.27 in /usr/local/lib/python3.10/dist-packages (from transformers) (4.66.5)\n",
            "Requirement already satisfied: aiohappyeyeballs>=2.3.0 in /usr/local/lib/python3.10/dist-packages (from aiohttp<4,>=3.8.3->alpaca-trade-api) (2.4.0)\n",
            "Requirement already satisfied: aiosignal>=1.1.2 in /usr/local/lib/python3.10/dist-packages (from aiohttp<4,>=3.8.3->alpaca-trade-api) (1.3.1)\n",
            "Requirement already satisfied: attrs>=17.3.0 in /usr/local/lib/python3.10/dist-packages (from aiohttp<4,>=3.8.3->alpaca-trade-api) (24.2.0)\n",
            "Requirement already satisfied: frozenlist>=1.1.1 in /usr/local/lib/python3.10/dist-packages (from aiohttp<4,>=3.8.3->alpaca-trade-api) (1.4.1)\n",
            "Requirement already satisfied: multidict<7.0,>=4.5 in /usr/local/lib/python3.10/dist-packages (from aiohttp<4,>=3.8.3->alpaca-trade-api) (6.1.0)\n",
            "Requirement already satisfied: yarl<2.0,>=1.0 in /usr/local/lib/python3.10/dist-packages (from aiohttp<4,>=3.8.3->alpaca-trade-api) (1.11.1)\n",
            "Requirement already satisfied: async-timeout<5.0,>=4.0 in /usr/local/lib/python3.10/dist-packages (from aiohttp<4,>=3.8.3->alpaca-trade-api) (4.0.3)\n",
            "Requirement already satisfied: fsspec>=2023.5.0 in /usr/local/lib/python3.10/dist-packages (from huggingface-hub<1.0,>=0.23.2->transformers) (2024.6.1)\n",
            "Requirement already satisfied: typing-extensions>=3.7.4.3 in /usr/local/lib/python3.10/dist-packages (from huggingface-hub<1.0,>=0.23.2->transformers) (4.12.2)\n",
            "Requirement already satisfied: python-dateutil>=2.8.2 in /usr/local/lib/python3.10/dist-packages (from pandas>=0.18.1->alpaca-trade-api) (2.8.2)\n",
            "Requirement already satisfied: pytz>=2020.1 in /usr/local/lib/python3.10/dist-packages (from pandas>=0.18.1->alpaca-trade-api) (2024.2)\n",
            "Requirement already satisfied: tzdata>=2022.1 in /usr/local/lib/python3.10/dist-packages (from pandas>=0.18.1->alpaca-trade-api) (2024.1)\n",
            "Requirement already satisfied: charset-normalizer<4,>=2 in /usr/local/lib/python3.10/dist-packages (from requests<3,>2->alpaca-trade-api) (3.3.2)\n",
            "Requirement already satisfied: idna<4,>=2.5 in /usr/local/lib/python3.10/dist-packages (from requests<3,>2->alpaca-trade-api) (3.10)\n",
            "Requirement already satisfied: certifi>=2017.4.17 in /usr/local/lib/python3.10/dist-packages (from requests<3,>2->alpaca-trade-api) (2024.8.30)\n",
            "Requirement already satisfied: six>=1.5 in /usr/local/lib/python3.10/dist-packages (from python-dateutil>=2.8.2->pandas>=0.18.1->alpaca-trade-api) (1.16.0)\n"
          ]
        }
      ],
      "source": [
        "!pip install alpaca-trade-api transformers\n"
      ]
    },
    {
      "cell_type": "code",
      "source": [
        "import asyncio\n",
        "from alpaca_trade_api import REST, Stream\n",
        "from transformers import pipeline"
      ],
      "metadata": {
        "id": "BVS9G9P7nHGr"
      },
      "execution_count": 36,
      "outputs": []
    },
    {
      "cell_type": "code",
      "source": [
        "API_KEY = '--------'\n",
        "API_SECRET = '---------'\n",
        "BASE_URL = 'https://paper-api.alpaca.markets/v2'"
      ],
      "metadata": {
        "id": "3umMYtzEnUrs"
      },
      "execution_count": 37,
      "outputs": []
    },
    {
      "cell_type": "code",
      "source": [
        "rest_client = REST(API_KEY, API_SECRET, BASE_URL)"
      ],
      "metadata": {
        "id": "TLUIxHEznvCw"
      },
      "execution_count": 38,
      "outputs": []
    },
    {
      "cell_type": "code",
      "source": [
        "async def news_data_handler(news):\n",
        "    \"\"\"Handle incoming news data.\"\"\"\n",
        "    # Combine headline and summary for analysis\n",
        "    summary = news.summary or \"\"\n",
        "    headline = news.headline or \"\"\n",
        "    relevant_text = summary + \" \" + headline\n",
        "\n",
        "    # Perform sentiment analysis\n",
        "    sentiment = classifier(relevant_text)\n",
        "\n",
        "    print(f\"Processed News: {headline}\")\n",
        "    print(f\"Sentiment: {sentiment}\")\n",
        "\n",
        "    # Trading logic based on sentiment\n",
        "    if sentiment[0]['label'] == 'POSITIVE' and sentiment[0]['score'] > 0.95:\n",
        "        # Place a buy order for 100 shares of AAPL\n",
        "        print(\"Placing a buy order for 100 shares of AAPL.\")\n",
        "        rest_client.submit_order(\n",
        "            symbol=\"AAPL\",\n",
        "            qty=100,\n",
        "            side='buy',\n",
        "            type='market',\n",
        "            time_in_force='gtc'\n",
        "        )\n",
        "\n",
        "    elif sentiment[0]['label'] == 'NEGATIVE' and sentiment[0]['score'] > 0.95:\n",
        "        # Place a sell order for 100 shares of AAPL\n",
        "        print(\"Placing a sell order for 100 shares of AAPL.\")\n",
        "        rest_client.submit_order(\n",
        "            symbol=\"AAPL\",\n",
        "            qty=100,\n",
        "            side='sell',\n",
        "            type='market',\n",
        "            time_in_force='gtc'\n",
        "        )"
      ],
      "metadata": {
        "id": "mqwN5sKBqVE5"
      },
      "execution_count": 39,
      "outputs": []
    },
    {
      "cell_type": "code",
      "source": [
        "# Create a streaming client\n",
        "stream_client = Stream(API_KEY, API_SECRET)"
      ],
      "metadata": {
        "id": "n5SJEmdIqZ-_"
      },
      "execution_count": 40,
      "outputs": []
    },
    {
      "cell_type": "code",
      "source": [
        "# Subscribe to news data for AAPL\n",
        "stream_client.subscribe_news(news_data_handler, \"AAPL\")"
      ],
      "metadata": {
        "id": "Ha_Tcbejqemf"
      },
      "execution_count": 41,
      "outputs": []
    },
    {
      "cell_type": "code",
      "source": [
        "async def main():\n",
        "    await stream_client.run()"
      ],
      "metadata": {
        "id": "bZZ0jntrq-Sz"
      },
      "execution_count": 47,
      "outputs": []
    },
    {
      "cell_type": "code",
      "source": [
        "if __name__ == \"__main__\":\n",
        "    asyncio.get_event_loop().create_task(main())"
      ],
      "metadata": {
        "colab": {
          "base_uri": "https://localhost:8080/"
        },
        "id": "2-d84lkTuNwl",
        "outputId": "bf76babd-3d6f-4c6e-a5fa-13edd8f9aa92"
      },
      "execution_count": 59,
      "outputs": [
        {
          "output_type": "stream",
          "name": "stderr",
          "text": [
            "ERROR:asyncio:Task exception was never retrieved\n",
            "future: <Task finished name='Task-6' coro=<main() done, defined at <ipython-input-47-442dc8a9d39f>:1> exception=RuntimeError('asyncio.run() cannot be called from a running event loop')>\n",
            "Traceback (most recent call last):\n",
            "  File \"<ipython-input-47-442dc8a9d39f>\", line 2, in main\n",
            "    await stream_client.run()\n",
            "  File \"/usr/local/lib/python3.10/dist-packages/alpaca_trade_api/stream.py\", line 1016, in run\n",
            "    asyncio.run(self._run_forever())\n",
            "  File \"/usr/lib/python3.10/asyncio/runners.py\", line 33, in run\n",
            "    raise RuntimeError(\n",
            "RuntimeError: asyncio.run() cannot be called from a running event loop\n",
            "/usr/lib/python3.10/asyncio/base_events.py:1894: RuntimeWarning: coroutine 'Stream._run_forever' was never awaited\n",
            "  handle = self._ready.popleft()\n",
            "RuntimeWarning: Enable tracemalloc to get the object allocation traceback\n"
          ]
        }
      ]
    }
  ]
}